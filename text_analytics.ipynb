{
 "cells": [
  {
   "cell_type": "markdown",
   "metadata": {
    "collapsed": false
   },
   "source": [
    "## Classification des critiques cinématographiques\n",
    "\n",
    "### 1. Les données\n",
    "\n",
    "#### 1.1 Lecture avec la librairie pandas"
   ]
  },
  {
   "cell_type": "code",
   "execution_count": 19,
   "metadata": {
    "collapsed": false
   },
   "outputs": [
    {
     "name": "stdout",
     "output_type": "stream",
     "text": [
      "Size of labeledTrainData.tsv:  (25000, 3)\n",
      "\n",
      "Values on labeledTrainData.tsv:  ['id' 'sentiment' 'review']\n",
      "\n",
      "Sentiment:  0\n",
      "Review: \"What happens when an army of wetbacks, towelheads, and Godless Eastern European commies gather their forces south of the border? Gary Busey kicks their butts, of course. Another laughable example of Reagan-era cultural fallout, Bulletproof wastes a decent supporting cast headed by L Q Jones and Thalmus Rasulala.\"\n",
      "\n"
     ]
    }
   ],
   "source": [
    "import pandas as pd\n",
    "\n",
    "# Le fichier labeldedTrainData.tsv contient les données labélisées que nous allons\n",
    "# utiliser pour l'apprentissage. \n",
    "train = pd.read_csv(\"labeledTrainData.tsv\", header=0,delimiter=\"\\t\", quoting=3)\n",
    "\n",
    "# On affiche la taille du fichier de données\n",
    "print 'Size of labeledTrainData.tsv: ', train.shape\n",
    "print ''\n",
    "\n",
    "# Le fichier labeledTrainData.tsv est composé de trois colonnes que l'on affiche\n",
    "print 'Values on labeledTrainData.tsv: ', train.columns.values\n",
    "print''\n",
    "\n",
    "# Par exemple, on peut afficher la review et le sentiment du 10ième film\n",
    "# 0 : bad\n",
    "# 1 : good\n",
    "print 'Sentiment: ', train[\"sentiment\"][10]\n",
    "print 'Review:', train[\"review\"][10]\n",
    "print ''"
   ]
  },
  {
   "cell_type": "markdown",
   "metadata": {
    "collapsed": false
   },
   "source": [
    "#### 1.2 Nettoyage\n",
    "\n",
    "Avant de pouvoir utiliser les reviews, nous devons les nettoyer i.e. ne conserver que les lettres de l'alphabet, en minuscule. Ceci est possible grâce à une bibliothèque python traitant les [expressions régulières](https://docs.python.org/2/library/re.html#).\n",
    "\n",
    "Dans certains avis, il y a des balises HTML. Pour les enlever, on va utiliser la librairie [Beautiful Soup](http://www.crummy.com/software/BeautifulSoup/bs4/doc/)."
   ]
  },
  {
   "cell_type": "code",
   "execution_count": 22,
   "metadata": {
    "collapsed": false
   },
   "outputs": [
    {
     "name": "stdout",
     "output_type": "stream",
     "text": [
      "\"With all this stuff going down at the moment with MJ i've started listening to his music, watching the odd documentary here and there, watched The Wiz and watched Moonwalker again. Maybe i just want to get a certain insight into this guy who i thought was really cool in the eighties just to maybe make up my mind whether he is guilty or innocent. Moonwalker is part biography, part feature film which i remember going to see at the cinema when it was originally released. Some of it has subtle messages about MJ's feeling towards the press and also the obvious message of drugs are bad m'kay.<br /><br />Visually impressive but of course this is all about Michael Jackson so unless you remotely like MJ in anyway then you are going to hate this and find it boring. Some may call MJ an egotist for consenting to the making of this movie BUT MJ and most of his fans would say that he made it for the fans which if true is really nice of him.<br /><br />The actual feature film bit when it finally starts is only on for 20 minutes or so excluding the Smooth Criminal sequence and Joe Pesci is convincing as a psychopathic all powerful drug lord. Why he wants MJ dead so bad is beyond me. Because MJ overheard his plans? Nah, Joe Pesci's character ranted that he wanted people to know it is he who is supplying drugs etc so i dunno, maybe he just hates MJ's music.<br /><br />Lots of cool things in this like MJ turning into a car and a robot and the whole Speed Demon sequence. Also, the director must have had the patience of a saint when it came to filming the kiddy Bad sequence as usually directors hate working with one kid let alone a whole bunch of them performing a complex dance scene.<br /><br />Bottom line, this movie is for people who like MJ on one level or another (which i think is most people). If not, then stay away. It does try and give off a wholesome message and ironically MJ's bestest buddy in this movie is a girl! Michael Jackson is truly one of the most talented people ever to grace this planet but is he guilty? Well, with all the attention i've gave this subject....hmmm well i don't know because people can be different behind closed doors, i know this for a fact. He is either an extremely nice but stupid guy or one of the most sickest liars. I hope he is not the latter.\"\n",
      "\n",
      "\"With all this stuff going down at the moment with MJ i've started listening to his music, watching the odd documentary here and there, watched The Wiz and watched Moonwalker again. Maybe i just want to get a certain insight into this guy who i thought was really cool in the eighties just to maybe make up my mind whether he is guilty or innocent. Moonwalker is part biography, part feature film which i remember going to see at the cinema when it was originally released. Some of it has subtle messages about MJ's feeling towards the press and also the obvious message of drugs are bad m'kay.Visually impressive but of course this is all about Michael Jackson so unless you remotely like MJ in anyway then you are going to hate this and find it boring. Some may call MJ an egotist for consenting to the making of this movie BUT MJ and most of his fans would say that he made it for the fans which if true is really nice of him.The actual feature film bit when it finally starts is only on for 20 minutes or so excluding the Smooth Criminal sequence and Joe Pesci is convincing as a psychopathic all powerful drug lord. Why he wants MJ dead so bad is beyond me. Because MJ overheard his plans? Nah, Joe Pesci's character ranted that he wanted people to know it is he who is supplying drugs etc so i dunno, maybe he just hates MJ's music.Lots of cool things in this like MJ turning into a car and a robot and the whole Speed Demon sequence. Also, the director must have had the patience of a saint when it came to filming the kiddy Bad sequence as usually directors hate working with one kid let alone a whole bunch of them performing a complex dance scene.Bottom line, this movie is for people who like MJ on one level or another (which i think is most people). If not, then stay away. It does try and give off a wholesome message and ironically MJ's bestest buddy in this movie is a girl! Michael Jackson is truly one of the most talented people ever to grace this planet but is he guilty? Well, with all the attention i've gave this subject....hmmm well i don't know because people can be different behind closed doors, i know this for a fact. He is either an extremely nice but stupid guy or one of the most sickest liars. I hope he is not the latter.\"\n",
      "\n",
      " With all this stuff going down at the moment with MJ i ve started listening to his music  watching the odd documentary here and there  watched The Wiz and watched Moonwalker again  Maybe i just want to get a certain insight into this guy who i thought was really cool in the eighties just to maybe make up my mind whether he is guilty or innocent  Moonwalker is part biography  part feature film which i remember going to see at the cinema when it was originally released  Some of it has subtle messages about MJ s feeling towards the press and also the obvious message of drugs are bad m kay Visually impressive but of course this is all about Michael Jackson so unless you remotely like MJ in anyway then you are going to hate this and find it boring  Some may call MJ an egotist for consenting to the making of this movie BUT MJ and most of his fans would say that he made it for the fans which if true is really nice of him The actual feature film bit when it finally starts is only on for    minutes or so excluding the Smooth Criminal sequence and Joe Pesci is convincing as a psychopathic all powerful drug lord  Why he wants MJ dead so bad is beyond me  Because MJ overheard his plans  Nah  Joe Pesci s character ranted that he wanted people to know it is he who is supplying drugs etc so i dunno  maybe he just hates MJ s music Lots of cool things in this like MJ turning into a car and a robot and the whole Speed Demon sequence  Also  the director must have had the patience of a saint when it came to filming the kiddy Bad sequence as usually directors hate working with one kid let alone a whole bunch of them performing a complex dance scene Bottom line  this movie is for people who like MJ on one level or another  which i think is most people   If not  then stay away  It does try and give off a wholesome message and ironically MJ s bestest buddy in this movie is a girl  Michael Jackson is truly one of the most talented people ever to grace this planet but is he guilty  Well  with all the attention i ve gave this subject    hmmm well i don t know because people can be different behind closed doors  i know this for a fact  He is either an extremely nice but stupid guy or one of the most sickest liars  I hope he is not the latter  \n",
      "\n",
      " with all this stuff going down at the moment with mj i ve started listening to his music  watching the odd documentary here and there  watched the wiz and watched moonwalker again  maybe i just want to get a certain insight into this guy who i thought was really cool in the eighties just to maybe make up my mind whether he is guilty or innocent  moonwalker is part biography  part feature film which i remember going to see at the cinema when it was originally released  some of it has subtle messages about mj s feeling towards the press and also the obvious message of drugs are bad m kay visually impressive but of course this is all about michael jackson so unless you remotely like mj in anyway then you are going to hate this and find it boring  some may call mj an egotist for consenting to the making of this movie but mj and most of his fans would say that he made it for the fans which if true is really nice of him the actual feature film bit when it finally starts is only on for    minutes or so excluding the smooth criminal sequence and joe pesci is convincing as a psychopathic all powerful drug lord  why he wants mj dead so bad is beyond me  because mj overheard his plans  nah  joe pesci s character ranted that he wanted people to know it is he who is supplying drugs etc so i dunno  maybe he just hates mj s music lots of cool things in this like mj turning into a car and a robot and the whole speed demon sequence  also  the director must have had the patience of a saint when it came to filming the kiddy bad sequence as usually directors hate working with one kid let alone a whole bunch of them performing a complex dance scene bottom line  this movie is for people who like mj on one level or another  which i think is most people   if not  then stay away  it does try and give off a wholesome message and ironically mj s bestest buddy in this movie is a girl  michael jackson is truly one of the most talented people ever to grace this planet but is he guilty  well  with all the attention i ve gave this subject    hmmm well i don t know because people can be different behind closed doors  i know this for a fact  he is either an extremely nice but stupid guy or one of the most sickest liars  i hope he is not the latter  \n",
      "\n",
      "[u'with', u'all', u'this', u'stuff', u'going', u'down', u'at', u'the', u'moment', u'with', u'mj', u'i', u've', u'started', u'listening', u'to', u'his', u'music', u'watching', u'the', u'odd', u'documentary', u'here', u'and', u'there', u'watched', u'the', u'wiz', u'and', u'watched', u'moonwalker', u'again', u'maybe', u'i', u'just', u'want', u'to', u'get', u'a', u'certain', u'insight', u'into', u'this', u'guy', u'who', u'i', u'thought', u'was', u'really', u'cool', u'in', u'the', u'eighties', u'just', u'to', u'maybe', u'make', u'up', u'my', u'mind', u'whether', u'he', u'is', u'guilty', u'or', u'innocent', u'moonwalker', u'is', u'part', u'biography', u'part', u'feature', u'film', u'which', u'i', u'remember', u'going', u'to', u'see', u'at', u'the', u'cinema', u'when', u'it', u'was', u'originally', u'released', u'some', u'of', u'it', u'has', u'subtle', u'messages', u'about', u'mj', u's', u'feeling', u'towards', u'the', u'press', u'and', u'also', u'the', u'obvious', u'message', u'of', u'drugs', u'are', u'bad', u'm', u'kay', u'visually', u'impressive', u'but', u'of', u'course', u'this', u'is', u'all', u'about', u'michael', u'jackson', u'so', u'unless', u'you', u'remotely', u'like', u'mj', u'in', u'anyway', u'then', u'you', u'are', u'going', u'to', u'hate', u'this', u'and', u'find', u'it', u'boring', u'some', u'may', u'call', u'mj', u'an', u'egotist', u'for', u'consenting', u'to', u'the', u'making', u'of', u'this', u'movie', u'but', u'mj', u'and', u'most', u'of', u'his', u'fans', u'would', u'say', u'that', u'he', u'made', u'it', u'for', u'the', u'fans', u'which', u'if', u'true', u'is', u'really', u'nice', u'of', u'him', u'the', u'actual', u'feature', u'film', u'bit', u'when', u'it', u'finally', u'starts', u'is', u'only', u'on', u'for', u'minutes', u'or', u'so', u'excluding', u'the', u'smooth', u'criminal', u'sequence', u'and', u'joe', u'pesci', u'is', u'convincing', u'as', u'a', u'psychopathic', u'all', u'powerful', u'drug', u'lord', u'why', u'he', u'wants', u'mj', u'dead', u'so', u'bad', u'is', u'beyond', u'me', u'because', u'mj', u'overheard', u'his', u'plans', u'nah', u'joe', u'pesci', u's', u'character', u'ranted', u'that', u'he', u'wanted', u'people', u'to', u'know', u'it', u'is', u'he', u'who', u'is', u'supplying', u'drugs', u'etc', u'so', u'i', u'dunno', u'maybe', u'he', u'just', u'hates', u'mj', u's', u'music', u'lots', u'of', u'cool', u'things', u'in', u'this', u'like', u'mj', u'turning', u'into', u'a', u'car', u'and', u'a', u'robot', u'and', u'the', u'whole', u'speed', u'demon', u'sequence', u'also', u'the', u'director', u'must', u'have', u'had', u'the', u'patience', u'of', u'a', u'saint', u'when', u'it', u'came', u'to', u'filming', u'the', u'kiddy', u'bad', u'sequence', u'as', u'usually', u'directors', u'hate', u'working', u'with', u'one', u'kid', u'let', u'alone', u'a', u'whole', u'bunch', u'of', u'them', u'performing', u'a', u'complex', u'dance', u'scene', u'bottom', u'line', u'this', u'movie', u'is', u'for', u'people', u'who', u'like', u'mj', u'on', u'one', u'level', u'or', u'another', u'which', u'i', u'think', u'is', u'most', u'people', u'if', u'not', u'then', u'stay', u'away', u'it', u'does', u'try', u'and', u'give', u'off', u'a', u'wholesome', u'message', u'and', u'ironically', u'mj', u's', u'bestest', u'buddy', u'in', u'this', u'movie', u'is', u'a', u'girl', u'michael', u'jackson', u'is', u'truly', u'one', u'of', u'the', u'most', u'talented', u'people', u'ever', u'to', u'grace', u'this', u'planet', u'but', u'is', u'he', u'guilty', u'well', u'with', u'all', u'the', u'attention', u'i', u've', u'gave', u'this', u'subject', u'hmmm', u'well', u'i', u'don', u't', u'know', u'because', u'people', u'can', u'be', u'different', u'behind', u'closed', u'doors', u'i', u'know', u'this', u'for', u'a', u'fact', u'he', u'is', u'either', u'an', u'extremely', u'nice', u'but', u'stupid', u'guy', u'or', u'one', u'of', u'the', u'most', u'sickest', u'liars', u'i', u'hope', u'he', u'is', u'not', u'the', u'latter']\n"
     ]
    }
   ],
   "source": [
    "# On importe la bibliothèque re pour traiter les expressions régulières.\n",
    "import re\n",
    "# On importe Beautiful Soup.\n",
    "import bs4 as bs\n",
    "\n",
    "# Par exemple, la review du premier film contient des caractères HTML\n",
    "print train[\"review\"][0]\n",
    "print''\n",
    "\n",
    "# On peut les supprimer de cette façon : \n",
    "example1 = bs.BeautifulSoup(train[\"review\"][0])\n",
    "print example1.get_text()\n",
    "print''\n",
    "\n",
    "# Maintenant, on ne conserve que les lettres de l'alphabet.\n",
    "letters_only = re.sub(\"[^a-zA-Z]\",\" \",example1.get_text())\n",
    "print letters_only\n",
    "print''\n",
    "\n",
    "# On les met en minuscule.\n",
    "lower_case = letters_only.lower()\n",
    "print lower_case\n",
    "print ''\n",
    "\n",
    "# Enfin, on sépare la revue en mots.\n",
    "words = lower_case.split()\n",
    "print words"
   ]
  },
  {
   "cell_type": "markdown",
   "metadata": {
    "collapsed": false
   },
   "source": [
    "La dernière opération consiste à enlever les mots vide de sens (stop words en anglais). Pour faire ça, on va utiliser la bibliothèque python [Natural Language Toolkit](http://www.nltk.org/)."
   ]
  },
  {
   "cell_type": "code",
   "execution_count": 23,
   "metadata": {
    "collapsed": false
   },
   "outputs": [],
   "source": [
    "# On importe la bibliothèque nltk\n",
    "import nltk\n",
    "\n",
    "# L'étape suivante permet de télécharger tout ce dont nous avons besoin.\n",
    "# Je n'ai pas pu la faire pour des problèmes d'autorization du proxy.\n",
    "# J'ai donc télécharger manuellement la bibliothèque pour les stop words via\n",
    "# http://www.nltk.org/nltk_data/\n",
    "\n",
    "# nltk.set_proxy('http://ba-proxy.sesame.infotel.com:8080',\n",
    "#               ('m_bess', '1nf0TL@EPO'))\n",
    "# nltk.download()"
   ]
  },
  {
   "cell_type": "code",
   "execution_count": 26,
   "metadata": {
    "collapsed": false,
    "scrolled": true
   },
   "outputs": [
    {
     "name": "stdout",
     "output_type": "stream",
     "text": [
      "[u'stuff', u'going', u'moment', u'mj', u've', u'started', u'listening', u'music', u'watching', u'odd', u'documentary', u'watched', u'wiz', u'watched', u'moonwalker', u'maybe', u'want', u'get', u'certain', u'insight', u'guy', u'thought', u'really', u'cool', u'eighties', u'maybe', u'make', u'mind', u'whether', u'guilty', u'innocent', u'moonwalker', u'part', u'biography', u'part', u'feature', u'film', u'remember', u'going', u'see', u'cinema', u'originally', u'released', u'subtle', u'messages', u'mj', u'feeling', u'towards', u'press', u'also', u'obvious', u'message', u'drugs', u'bad', u'm', u'kay', u'visually', u'impressive', u'course', u'michael', u'jackson', u'unless', u'remotely', u'like', u'mj', u'anyway', u'going', u'hate', u'find', u'boring', u'may', u'call', u'mj', u'egotist', u'consenting', u'making', u'movie', u'mj', u'fans', u'would', u'say', u'made', u'fans', u'true', u'really', u'nice', u'actual', u'feature', u'film', u'bit', u'finally', u'starts', u'minutes', u'excluding', u'smooth', u'criminal', u'sequence', u'joe', u'pesci', u'convincing', u'psychopathic', u'powerful', u'drug', u'lord', u'wants', u'mj', u'dead', u'bad', u'beyond', u'mj', u'overheard', u'plans', u'nah', u'joe', u'pesci', u'character', u'ranted', u'wanted', u'people', u'know', u'supplying', u'drugs', u'etc', u'dunno', u'maybe', u'hates', u'mj', u'music', u'lots', u'cool', u'things', u'like', u'mj', u'turning', u'car', u'robot', u'whole', u'speed', u'demon', u'sequence', u'also', u'director', u'must', u'patience', u'saint', u'came', u'filming', u'kiddy', u'bad', u'sequence', u'usually', u'directors', u'hate', u'working', u'one', u'kid', u'let', u'alone', u'whole', u'bunch', u'performing', u'complex', u'dance', u'scene', u'bottom', u'line', u'movie', u'people', u'like', u'mj', u'one', u'level', u'another', u'think', u'people', u'stay', u'away', u'try', u'give', u'wholesome', u'message', u'ironically', u'mj', u'bestest', u'buddy', u'movie', u'girl', u'michael', u'jackson', u'truly', u'one', u'talented', u'people', u'ever', u'grace', u'planet', u'guilty', u'well', u'attention', u've', u'gave', u'subject', u'hmmm', u'well', u'know', u'people', u'different', u'behind', u'closed', u'doors', u'know', u'fact', u'either', u'extremely', u'nice', u'stupid', u'guy', u'one', u'sickest', u'liars', u'hope', u'latter']\n"
     ]
    }
   ],
   "source": [
    "# On import la package stopwords de nltk.corpus\n",
    "from nltk.corpus import stopwords\n",
    "\n",
    "# On peut visualiser les stop words de plusieurs langues comme le français \n",
    "# ou l'anglais.\n",
    "# print stopwords.words(\"french\")\n",
    "# print''\n",
    "# print stopwords.words(\"english\")\n",
    "# D'autres langues sont également disponibles (voir C:\\Users\\m_bess\\\n",
    "#                                                      AppData\\Roaming\\\n",
    "#                                                      nlyk_data\\corpus\\stopwords).\n",
    "\n",
    "# Dans notre exemple ci-dessus, words, on va supprimer les stop words.\n",
    "words = [w for w in words if not w in stopwords.words(\"english\")]\n",
    "print words"
   ]
  },
  {
   "cell_type": "code",
   "execution_count": 29,
   "metadata": {
    "collapsed": false
   },
   "outputs": [],
   "source": [
    "# On peut résumer toutes les étapes de nettoyage dans une seule fonction.\n",
    "def review_to_words( raw_review ):\n",
    "    # Function to convert a raw review to a string of words\n",
    "    # The input is a single string (a raw movie review), and \n",
    "    # the output is a single string (a preprocessed movie review)\n",
    "    #\n",
    "    # 1. On supprime les balises HTML.\n",
    "    review_text = bs.BeautifulSoup(raw_review).get_text() \n",
    "    \n",
    "    # 2. On supprime tout ce qui n'est pas une lettre.        \n",
    "    letters_only = re.sub(\"[^a-zA-Z]\", \" \", review_text) \n",
    "\n",
    "    # 3. On met les lettres en minuscule.\n",
    "    words = letters_only.lower().split()                             \n",
    "\n",
    "    # 4. On supprime les stop words de la liste de mots.\n",
    "    stops = set(stopwords.words(\"english\"))                  \n",
    "    meaningful_words = [w for w in words if not w in set(stopwords.words(\"english\"))]   \n",
    "\n",
    "    # 5. On retourne une chaîne de mots séparés par des espaces.\n",
    "    return( \" \".join( meaningful_words )) "
   ]
  },
  {
   "cell_type": "code",
   "execution_count": 30,
   "metadata": {
    "collapsed": true
   },
   "outputs": [],
   "source": [
    "# Exemple d'utilisation de la fonction review_to_words avec la review du\n",
    "# premier film.\n",
    "#clean_review = review_to_words( train[\"review\"][0] )\n",
    "#print clean_review"
   ]
  },
  {
   "cell_type": "code",
   "execution_count": 42,
   "metadata": {
    "collapsed": false
   },
   "outputs": [],
   "source": [
    "clean_train_reviews = [review_to_words(train[\"review\"][review])\n",
    " for review in range(train[\"review\"].size)]"
   ]
  },
  {
   "cell_type": "markdown",
   "metadata": {
    "collapsed": false
   },
   "source": [
    "Maintenant que les données sont nettoyées correctement, il faut trouver un mieyn de les convertire en données numériques pour pouvoir faire dur machine learning (ML) à proprement parlé.\n",
    "\n",
    "#### 1.3 Mise en forme numérique des données\n",
    "\n",
    "Une moyen de transformer les données en quelque chose de numérique est d'utiliser l'approche [Bag of Words](https://en.wikipedia.org/wiki/Bag-of-words_model). \n",
    "\n",
    "La méthode commence par apprendre du vocabulaire en analysant tous les documents. Ensuite, elle compte l'occurrence de chaque mots contenu dans chaque documents.\n",
    "\n",
    "Il est possible de créer un Bag of Words en utilisant le module [feature_extraction](http://scikit-learn.org/stable/modules/feature_extraction.html) de [scikit-learn](http://scikit-learn.org/stable/)."
   ]
  },
  {
   "cell_type": "code",
   "execution_count": 47,
   "metadata": {
    "collapsed": false
   },
   "outputs": [
    {
     "name": "stdout",
     "output_type": "stream",
     "text": [
      "Size of train_data_features:  (25000L, 3000L)\n"
     ]
    }
   ],
   "source": [
    "from sklearn.feature_extraction.text import CountVectorizer\n",
    "\n",
    "# On initialise un CountVectorizer.  \n",
    "vectorizer = CountVectorizer(analyzer = \"word\",   \n",
    "                             tokenizer = None,    \n",
    "                             preprocessor = None, \n",
    "                             stop_words = None,   \n",
    "                             max_features = 3000) \n",
    "# Ici on ne conserve que 5000 mots pour le vocabulaire, c'est largement \n",
    "# suffisant.\n",
    "\n",
    "# L'apprentissage du vocabulaire se fait avec la fonction fit_transform.\n",
    "train_data_features = vectorizer.fit_transform(clean_train_reviews).toarray()\n",
    "print 'Size of train_data_features: ',train_data_features.shape"
   ]
  },
  {
   "cell_type": "code",
   "execution_count": null,
   "metadata": {
    "collapsed": false
   },
   "outputs": [],
   "source": [
    "# On peut avoir accès au vocabulaire généré de la façon suivante : \n",
    "vocab = vectorizer.get_feature_names()\n",
    "print vocab"
   ]
  },
  {
   "cell_type": "markdown",
   "metadata": {},
   "source": [
    "Maintenant que nous avons des données numériques, on peut passer à la partie ML.\n",
    "\n",
    "### 2. Partie Machine Learning\n",
    "\n",
    "Nous possèdons maintenant un couple de variables $(x,y)$ avec $x$ les variables d'entrée et $y$ les variables de réponse.\n",
    "\n",
    "La première étape consiste à choisir l'algorithme que nous allons utiliser. Ici, nous devons faire de la classification, on peut donc utilises des SVM, des forêts aléatoires, l'algorithme des $k$ plus proches voisins etc.\n",
    "\n",
    "Une fois que la méthode est sélectionnée, on entraîne le modèle avec notre couple de variables. Ici, le rôle de $x$ est joué par train_data_features et celui de $y$ par le label sentiment.\n",
    "\n",
    "Quand le modèle est entraîné, on peut se lancer dans le sprédictions.\n",
    "\n",
    "#### 2.1 Forêt aléatoires"
   ]
  },
  {
   "cell_type": "code",
   "execution_count": 57,
   "metadata": {
    "collapsed": false
   },
   "outputs": [],
   "source": [
    "from sklearn.ensemble import RandomForestClassifier\n",
    "\n",
    "# On initialise la forêt aléatoire avec 100 arbres\n",
    "forest = RandomForestClassifier(n_estimators = 100) \n",
    "\n",
    "# On lance la partie apprentissage avec le bag of words comme variable d'entrée\n",
    "# et le label sentiment comme variable de réponse.\n",
    "forest = forest.fit(train_data_features, train[\"sentiment\"])"
   ]
  },
  {
   "cell_type": "code",
   "execution_count": 78,
   "metadata": {
    "collapsed": false
   },
   "outputs": [],
   "source": [
    "# Read the test data\n",
    "test = pd.read_csv(\"my_reviews.tsv\", header=0, delimiter=\"\\t\", \\\n",
    "                   quoting=3 )\n",
    "\n",
    "clean_test_reviews = [review_to_words(test[\"review\"][review])\n",
    "                      for review in range(test[\"review\"].size)]\n",
    "    \n",
    "# Get a bag of words for the test set, and convert to a numpy array\n",
    "test_data_features = vectorizer.transform(clean_test_reviews).toarray()\n",
    "\n",
    "# Use the random forest to make sentiment label predictions\n",
    "result = forest.predict(test_data_features)\n",
    "\n",
    "# Copy the results to a pandas dataframe with an \"id\" column and\n",
    "# a \"sentiment\" column\n",
    "output = pd.DataFrame( data={\"id\":test[\"id\"], \"sentiment\":result} ).to_csv( \"my_predictions.csv\", index=False, quoting=3 )\n"
   ]
  },
  {
   "cell_type": "markdown",
   "metadata": {},
   "source": [
    "#### 2.2 Support Vector Machine"
   ]
  },
  {
   "cell_type": "code",
   "execution_count": 80,
   "metadata": {
    "collapsed": false,
    "scrolled": true
   },
   "outputs": [
    {
     "ename": "NameError",
     "evalue": "name 'SVC' is not defined",
     "output_type": "error",
     "traceback": [
      "\u001b[1;31m---------------------------------------------------------------------------\u001b[0m",
      "\u001b[1;31mNameError\u001b[0m                                 Traceback (most recent call last)",
      "\u001b[1;32m<ipython-input-80-324d1ed130e3>\u001b[0m in \u001b[0;36m<module>\u001b[1;34m()\u001b[0m\n\u001b[0;32m      4\u001b[0m \u001b[1;33m\u001b[0m\u001b[0m\n\u001b[0;32m      5\u001b[0m \u001b[0mclf\u001b[0m\u001b[1;33m.\u001b[0m\u001b[0mfit\u001b[0m\u001b[1;33m(\u001b[0m\u001b[0mtrain_data_features\u001b[0m\u001b[1;33m,\u001b[0m \u001b[0mtrain\u001b[0m\u001b[1;33m[\u001b[0m\u001b[1;34m\"sentiment\"\u001b[0m\u001b[1;33m]\u001b[0m\u001b[1;33m)\u001b[0m\u001b[1;33m\u001b[0m\u001b[0m\n\u001b[1;32m----> 6\u001b[1;33m SVC(C=1.0, cache_size=200, class_weight=None, coef0=0.0,\n\u001b[0m\u001b[0;32m      7\u001b[0m     \u001b[0mdecision_function_shape\u001b[0m\u001b[1;33m=\u001b[0m\u001b[0mNone\u001b[0m\u001b[1;33m,\u001b[0m \u001b[0mdegree\u001b[0m\u001b[1;33m=\u001b[0m\u001b[1;36m3\u001b[0m\u001b[1;33m,\u001b[0m \u001b[0mgamma\u001b[0m\u001b[1;33m=\u001b[0m\u001b[1;34m'auto'\u001b[0m\u001b[1;33m,\u001b[0m \u001b[0mkernel\u001b[0m\u001b[1;33m=\u001b[0m\u001b[1;34m'rbf'\u001b[0m\u001b[1;33m,\u001b[0m\u001b[1;33m\u001b[0m\u001b[0m\n\u001b[0;32m      8\u001b[0m     \u001b[0mmax_iter\u001b[0m\u001b[1;33m=\u001b[0m\u001b[1;33m-\u001b[0m\u001b[1;36m1\u001b[0m\u001b[1;33m,\u001b[0m \u001b[0mprobability\u001b[0m\u001b[1;33m=\u001b[0m\u001b[0mFalse\u001b[0m\u001b[1;33m,\u001b[0m \u001b[0mrandom_state\u001b[0m\u001b[1;33m=\u001b[0m\u001b[0mNone\u001b[0m\u001b[1;33m,\u001b[0m \u001b[0mshrinking\u001b[0m\u001b[1;33m=\u001b[0m\u001b[0mTrue\u001b[0m\u001b[1;33m,\u001b[0m\u001b[1;33m\u001b[0m\u001b[0m\n",
      "\u001b[1;31mNameError\u001b[0m: name 'SVC' is not defined"
     ]
    }
   ],
   "source": [
    "from sklearn import svm\n",
    "\n",
    "clf = svm.SVC()\n",
    "\n",
    "clf.fit(train_data_features, train[\"sentiment\"])\n",
    "\n",
    "clf.predict(test_data_features)\n",
    "\n",
    "output = pd.DataFrame( data={\"id\":test[\"id\"], \"sentiment\":result} ).to_csv( \"my_predictions_SVM.csv\", index=False, quoting=3 )"
   ]
  },
  {
   "cell_type": "code",
   "execution_count": 81,
   "metadata": {
    "collapsed": true
   },
   "outputs": [],
   "source": [
    "clf.predict(test_data_features)\n",
    "\n",
    "output = pd.DataFrame( data={\"id\":test[\"id\"], \"sentiment\":result} ).to_csv( \"my_predictions_SVM.csv\", index=False, quoting=3 )"
   ]
  },
  {
   "cell_type": "code",
   "execution_count": null,
   "metadata": {
    "collapsed": false
   },
   "outputs": [],
   "source": []
  }
 ],
 "metadata": {
  "kernelspec": {
   "display_name": "Python 3",
   "language": "python",
   "name": "python3"
  },
  "language_info": {
   "codemirror_mode": {
    "name": "ipython",
    "version": 3
   },
   "file_extension": ".py",
   "mimetype": "text/x-python",
   "name": "python",
   "nbconvert_exporter": "python",
   "pygments_lexer": "ipython3",
   "version": "3.5.1"
  }
 },
 "nbformat": 4,
 "nbformat_minor": 0
}
