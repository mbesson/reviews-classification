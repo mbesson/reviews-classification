{
 "cells": [
  {
   "cell_type": "markdown",
   "metadata": {
    "collapsed": false
   },
   "source": [
    "### Classification des avis cinématographiques\n"
   ]
  },
  {
   "cell_type": "code",
   "execution_count": 1,
   "metadata": {
    "collapsed": true
   },
   "outputs": [],
   "source": [
    "# Bibliothèques nécessaires\n",
    "import random\n",
    "import time\n",
    "import pandas as pd # pandas pour avoir un format (DataFrame) confortable pour les données.\n",
    "import numpy as np # Numpy pour le calcul du taux de bonnes prédictions\n",
    "from sklearn.feature_extraction.text import TfidfVectorizer # outil pour traiter le texte\n",
    "from sklearn.ensemble import RandomForestClassifier\n",
    "from sklearn.linear_model import SGDClassifier\n",
    "from sklearn.pipeline import Pipeline\n",
    "from sklearn import metrics"
   ]
  },
  {
   "cell_type": "markdown",
   "metadata": {},
   "source": [
    "#### Création du fichier pour la validation"
   ]
  },
  {
   "cell_type": "code",
   "execution_count": 4,
   "metadata": {
    "collapsed": false
   },
   "outputs": [
    {
     "name": "stdout",
     "output_type": "stream",
     "text": [
      "25000\n"
     ]
    }
   ],
   "source": [
    "# On charge le fichier où sont contenues les 25000 données\n",
    "train = pd.read_csv(\"data/train_data_original/labeledTrainData.tsv\", header=0,delimiter=\"\\t\", quoting=3)\n",
    "\n",
    "print train[\"review\"].size\n",
    "# On sélectionne 5000 id au hasard parmis les 25000\n",
    "movie_id = random.sample(range(train[\"review\"].size), 5000)\n",
    "\n",
    "# On enregistre le fichier avec les revues pour le test\n",
    "test_validation = [{\"id\":train[\"id\"][data], \"review\":train[\"review\"][data]} for data in movie_id]\n",
    "test_validation = pd.DataFrame(test_validation)\n",
    "test_validation.to_csv(\"data/validation_data/test_validation.csv\",index=False)\n",
    "\n",
    "# On enregistre les sentiments des 5000 pour la validation\n",
    "validation = [{\"id\":train[\"id\"][data], \"sentiment\":train[\"sentiment\"][data]} for data in movie_id]\n",
    "validation = pd.DataFrame(validation)\n",
    "validation.to_csv( \"data/validation_data/validation.csv\",index=False)\n",
    "\n",
    "# On enregistre le fichier d'apprentissage en enlevant les 5000 données.\n",
    "training_set = [{\"id\":train[\"id\"][data], \"sentiment\":train[\"sentiment\"][data],\"review\":train[\"review\"][data]}\n",
    "                for data in range(train['review'].size) if not data in movie_id]\n",
    "\n",
    "training_set = pd.DataFrame(training_set)\n",
    "training_set.to_csv(\"data/train_data/labeledTrainData.csv\",index=False)"
   ]
  },
  {
   "cell_type": "markdown",
   "metadata": {},
   "source": [
    "#### Avec les RF"
   ]
  },
  {
   "cell_type": "code",
   "execution_count": 3,
   "metadata": {
    "collapsed": false
   },
   "outputs": [
    {
     "name": "stdout",
     "output_type": "stream",
     "text": [
      "Training done in  107.313377314  seconds.\n",
      "\n",
      "Predictions done in  1.53242484173  seconds.\n",
      "\n",
      "Match rate:  83.78 %\n",
      "\n",
      "Confusion Matrix:\n"
     ]
    },
    {
     "data": {
      "text/plain": [
       "array([[2106,  355],\n",
       "       [ 456, 2083]])"
      ]
     },
     "execution_count": 3,
     "metadata": {},
     "output_type": "execute_result"
    }
   ],
   "source": [
    "# Définition de la pipeline\n",
    "rf_clf = Pipeline([('vect', TfidfVectorizer(analyzer = \"word\",stop_words='english',max_features = 5000)),\n",
    "                   ('clf', RandomForestClassifier(n_estimators = 150))])\n",
    "\n",
    "# Chargement du fichier contenant les données d'apprentissage\n",
    "train = pd.read_csv(\"data/train_data/labeledTrainData.csv\", header=0,delimiter=\",\")\n",
    "\n",
    "# Apprentissage\n",
    "tps1 = time.clock()\n",
    "rf_clf = rf_clf.fit(train[\"review\"],train[\"sentiment\"])\n",
    "tps2 = time.clock() \n",
    "print \"Training done in \",tps2 - tps1,\" seconds.\"\n",
    "print\"\"\n",
    "\n",
    "# Données à analyser\n",
    "test = pd.read_csv(\"data/validation_data/test_validation.csv\", header=0, delimiter=\",\")\n",
    "\n",
    "# Prédictions\n",
    "tps1 = time.clock()\n",
    "result = rf_clf.predict(test[\"review\"])\n",
    "tps2 = time.clock() \n",
    "print \"Predictions done in \",tps2 - tps1,\" seconds.\"\n",
    "print\"\"\n",
    "\n",
    "# On sauvegarde le resultat\n",
    "output = pd.DataFrame( data={\"id\":test[\"id\"], \"sentiment\":result} ).to_csv( \"data/validation_data//resultats/resultat_RF.csv\", index=False, quoting=3)\n",
    "\n",
    "# On calcul le taux de bonnes prédictions\n",
    "valid = pd.read_csv(\"data/validation_data/validation.csv\", header=0, delimiter=\",\") # Fichier contenant les sentiments valides\n",
    "print 'Match rate: ',np.mean(result == valid[\"sentiment\"])*100,\"%\"\n",
    "print''\n",
    "print 'Confusion Matrix:'\n",
    "metrics.confusion_matrix(valid[\"sentiment\"],result)"
   ]
  },
  {
   "cell_type": "markdown",
   "metadata": {},
   "source": [
    "#### Analyse du fichier de 50000 lignes\n",
    "\n"
   ]
  },
  {
   "cell_type": "code",
   "execution_count": 4,
   "metadata": {
    "collapsed": false
   },
   "outputs": [
    {
     "name": "stdout",
     "output_type": "stream",
     "text": [
      "Predictions done in  16.5828477298  seconds.\n",
      "\n"
     ]
    }
   ],
   "source": [
    "# On charge le fichier à analyser\n",
    "test = pd.read_csv(\"data/test_data/unlabeledTrainData.tsv\", header=0, delimiter=\"\\t\",quoting=3 )\n",
    "\n",
    "# Prédictions\n",
    "tps1 = time.clock() \n",
    "res_rf = rf_clf.predict(test[\"review\"]) # avec les forêts aléatoires\n",
    "tps2 = time.clock() \n",
    "print \"Predictions done in \",tps2 - tps1,\" seconds.\"\n",
    "print\"\"\n",
    "\n",
    "# On enregistre les résultats\n",
    "output_rf = pd.DataFrame( data={\"id\":test[\"id\"], \"sentiment\":res_rf} ).to_csv( \"data/test_data/resultats/predic_rf.csv\", index=False, quoting=3 )"
   ]
  },
  {
   "cell_type": "markdown",
   "metadata": {},
   "source": [
    "#### Avec une SVM un peu plus péchu"
   ]
  },
  {
   "cell_type": "code",
   "execution_count": 5,
   "metadata": {
    "collapsed": false
   },
   "outputs": [
    {
     "name": "stdout",
     "output_type": "stream",
     "text": [
      "Training done in  5.35520738599  seconds.\n",
      "\n",
      "Predictions done in  1.17070146651  seconds.\n",
      "\n",
      "Match rate:  88.1 %\n",
      "\n",
      "Confusion Matrix:\n"
     ]
    },
    {
     "data": {
      "text/plain": [
       "array([[2155,  306],\n",
       "       [ 289, 2250]])"
      ]
     },
     "execution_count": 5,
     "metadata": {},
     "output_type": "execute_result"
    }
   ],
   "source": [
    "# Définition de la pipeline\n",
    "svmPlus_clf = Pipeline([('vect', TfidfVectorizer(analyzer = \"word\",stop_words='english',max_features = 5000)),\n",
    "                        ('clf', SGDClassifier(loss='hinge', penalty='l2',alpha=1e-4, n_iter=50, random_state=42))])\n",
    "\n",
    "# Chargement du fichier contenant les données d'apprentissage\n",
    "train = pd.read_csv(\"data/train_data/labeledTrainData.csv\", header=0,delimiter=\",\")\n",
    "\n",
    "# Apprentissage\n",
    "tps1 = time.clock()\n",
    "svmPlus_clf = svmPlus_clf.fit(train[\"review\"],train[\"sentiment\"])\n",
    "tps2 = time.clock()\n",
    "print \"Training done in \",tps2 - tps1,\" seconds.\"\n",
    "print\"\"\n",
    "\n",
    "# Données à analyser\n",
    "test = pd.read_csv(\"data/validation_data/test_validation.csv\", header=0, delimiter=\",\")\n",
    "    \n",
    "# Prédictions \n",
    "tps1 = time.clock()\n",
    "result = svmPlus_clf.predict(test[\"review\"])\n",
    "tps2 = time.clock() \n",
    "print \"Predictions done in \",tps2 - tps1,\" seconds.\"\n",
    "print\"\"\n",
    "\n",
    "# On sauvegarde le resultat\n",
    "output = pd.DataFrame( data={\"id\":test[\"id\"], \"sentiment\":result} ).to_csv( \"data/validation_data/resultats/resultat_SVMPlus.csv\", index=False, quoting=3)\n",
    "\n",
    "# On calcul le taux de bonnes prédictions\n",
    "valid = pd.read_csv(\"data/validation_data/validation.csv\", header=0, delimiter=\",\") # Fichier contenant les sentiments valides\n",
    "print 'Match rate: ',np.mean(result == valid[\"sentiment\"])*100,\"%\"\n",
    "print''\n",
    "print 'Confusion Matrix:'\n",
    "metrics.confusion_matrix(valid[\"sentiment\"],result)"
   ]
  },
  {
   "cell_type": "markdown",
   "metadata": {},
   "source": [
    "#### Analyse du fichier de 50000 lignes avec la SVM péchu"
   ]
  },
  {
   "cell_type": "code",
   "execution_count": 6,
   "metadata": {
    "collapsed": false
   },
   "outputs": [
    {
     "name": "stdout",
     "output_type": "stream",
     "text": [
      "Done in 11.5040630298 seconds.\n",
      "\n",
      "Match rate between RF and SVM:  87.87 %\n"
     ]
    }
   ],
   "source": [
    "# On charge le fichier à analyser\n",
    "test = pd.read_csv(\"data/test_data/unlabeledTrainData.tsv\", header=0, delimiter=\"\\t\",quoting=3 )\n",
    "\n",
    "# Prédictions\n",
    "tps1 = time.clock() \n",
    "res_svmPlus = svmPlus_clf.predict(test[\"review\"]) # avec les SVM améliorée\n",
    "tps2 = time.clock() \n",
    "print 'Done in',tps2 - tps1,'seconds.'\n",
    "print \"\"\n",
    "\n",
    "# On enregistre les résultats\n",
    "output_SVM = pd.DataFrame( data={\"id\":test[\"id\"], \"sentiment\":res_svmPlus} ).to_csv( \"data/test_data/resultats/predic_svmPlus.csv\", index=False, quoting=3 )\n",
    "\n",
    "# Match rate\n",
    "out_svm = pd.read_csv(\"data/test_data/resultats/predic_svmPlus.csv\", header=0, delimiter=\",\")\n",
    "out_rf = pd.read_csv(\"data/test_data/resultats/predic_rf.csv\", header=0, delimiter=\",\")\n",
    "\n",
    "match_rate = 100.*sum([1. for el in range(out_svm[\"sentiment\"].size) if out_svm[\"sentiment\"][el] == out_rf[\"sentiment\"][el]])/out_svm[\"sentiment\"].size\n",
    "\n",
    "print \"Match rate between RF and SVM: \",match_rate,\"%\""
   ]
  }
 ],
 "metadata": {
  "kernelspec": {
   "display_name": "Python 2",
   "language": "python",
   "name": "python2"
  },
  "language_info": {
   "codemirror_mode": {
    "name": "ipython",
    "version": 2
   },
   "file_extension": ".py",
   "mimetype": "text/x-python",
   "name": "python",
   "nbconvert_exporter": "python",
   "pygments_lexer": "ipython2",
   "version": "2.7.10"
  }
 },
 "nbformat": 4,
 "nbformat_minor": 0
}
